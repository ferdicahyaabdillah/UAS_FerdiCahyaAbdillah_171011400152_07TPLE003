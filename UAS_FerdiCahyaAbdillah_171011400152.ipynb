{
  "nbformat": 4,
  "nbformat_minor": 0,
  "metadata": {
    "colab": {
      "name": "Untitled0.ipynb",
      "provenance": []
    },
    "kernelspec": {
      "name": "python3",
      "display_name": "Python 3"
    }
  },
  "cells": [
    {
      "cell_type": "code",
      "metadata": {
        "colab": {
          "base_uri": "https://localhost:8080/"
        },
        "id": "DqiuHsIKYgVT",
        "outputId": "1033cfc2-669d-4ef3-bbac-0c35cbc5c008"
      },
      "source": [
        "from sklearn import tree\r\n",
        "clf = tree.DecisionTreeClassifier()\r\n",
        "\r\n",
        "x = [[180, 80, 40], [170, 70, 30], [160, 60, 20],[150, 50, 10]] #[tb, bb, umur]\r\n",
        "y = ['Pria', 'pria', 'wanita', 'wanita']\r\n",
        "clf = clf.fit(x, y)\r\n",
        "\r\n",
        "#Silahkan Masukkan data anda dibawah..\r\n",
        "prediction = clf.predict([[170, 70, 30]])\r\n",
        "\r\n",
        "print (prediction)"
      ],
      "execution_count": 6,
      "outputs": [
        {
          "output_type": "stream",
          "text": [
            "['pria']\n"
          ],
          "name": "stdout"
        }
      ]
    }
  ]
}